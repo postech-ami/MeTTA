{
 "cells": [
  {
   "cell_type": "code",
   "execution_count": 10,
   "metadata": {},
   "outputs": [],
   "source": [
    "import os\n",
    "\n",
    "# If you have multiple GPUs, you can set the GPU to use here.\n",
    "# The default is to use the first GPU, which is usually GPU 0.\n",
    "os.environ[\"CUDA_VISIBLE_DEVICES\"] = \"7\"\n",
    "\n",
    "import argparse\n",
    "import copy\n",
    "from glob import glob\n",
    "from tqdm import tqdm\n",
    "\n",
    "import numpy as np\n",
    "import torch\n",
    "import torch.nn.functional as F\n",
    "from torchvision import transforms\n",
    "from PIL import Image, ImageDraw, ImageFont\n",
    "from torchvision.ops import box_convert\n",
    "\n",
    "# Grounding DINO\n",
    "import groundingdino.datasets.transforms as T\n",
    "from groundingdino.models import build_model\n",
    "from groundingdino.util import box_ops\n",
    "from groundingdino.util.slconfig import SLConfig\n",
    "from groundingdino.util.utils import clean_state_dict, get_phrases_from_posmap\n",
    "from groundingdino.util.inference import annotate, load_image, predict\n",
    "\n",
    "import supervision as sv\n",
    "\n",
    "# segment anything\n",
    "from segment_anything import build_sam, SamPredictor\n",
    "from segment_anything_hq import sam_model_registry_baseline\n",
    "from segment_anything_hq import SamPredictor as SamPredictorHQ\n",
    "import cv2\n",
    "import numpy as np\n",
    "import matplotlib.pyplot as plt\n",
    "\n",
    "\n",
    "# diffusers\n",
    "import PIL\n",
    "import requests\n",
    "import torch\n",
    "from io import BytesIO\n",
    "from diffusers import StableDiffusionInpaintPipeline\n",
    "\n",
    "\n",
    "from huggingface_hub import hf_hub_download"
   ]
  },
  {
   "cell_type": "code",
   "execution_count": 2,
   "metadata": {},
   "outputs": [],
   "source": [
    "class BLIP2():\n",
    "    def __init__(self, device='cuda'):\n",
    "        self.device = device\n",
    "        from transformers import AutoProcessor, Blip2ForConditionalGeneration\n",
    "        self.processor = AutoProcessor.from_pretrained(\"Salesforce/blip2-opt-2.7b\")\n",
    "        self.model = Blip2ForConditionalGeneration.from_pretrained(\"Salesforce/blip2-opt-2.7b\", torch_dtype=torch.float16).to(device)\n",
    "\n",
    "    @torch.no_grad()\n",
    "    def __call__(self, image):\n",
    "        image = Image.fromarray(image)\n",
    "        inputs = self.processor(image, return_tensors=\"pt\").to(self.device, torch.float16)\n",
    "\n",
    "        generated_ids = self.model.generate(**inputs, max_new_tokens=20)\n",
    "        generated_text = self.processor.batch_decode(generated_ids, skip_special_tokens=True)[0].strip()\n",
    "\n",
    "        return generated_text"
   ]
  },
  {
   "cell_type": "code",
   "execution_count": 3,
   "metadata": {},
   "outputs": [],
   "source": [
    "### Grounded SAM\n",
    "def load_model_hf(repo_id, filename, ckpt_config_filename, device='cpu'):\n",
    "    cache_config_file = hf_hub_download(repo_id=repo_id, filename=ckpt_config_filename)\n",
    "\n",
    "    args = SLConfig.fromfile(cache_config_file) \n",
    "    model = build_model(args)\n",
    "    args.device = device\n",
    "\n",
    "    cache_file = hf_hub_download(repo_id=repo_id, filename=filename)\n",
    "    checkpoint = torch.load(cache_file, map_location='cpu')\n",
    "    log = model.load_state_dict(clean_state_dict(checkpoint['model']), strict=False)\n",
    "    print(\"Model loaded from {} \\n => {}\".format(cache_file, log))\n",
    "    _ = model.eval()\n",
    "    return model "
   ]
  },
  {
   "cell_type": "code",
   "execution_count": 4,
   "metadata": {},
   "outputs": [],
   "source": [
    "def grounded_sam(text_prompt, local_image_path, groundingdino_model, sam_predictor):\n",
    "    # Use this command for evaluate the Grounding DINO model\n",
    "    # Or you can download the model by yourself\n",
    "    # ckpt_repo_id = \"ShilongLiu/GroundingDINO\"\n",
    "    # ckpt_filenmae = \"groundingdino_swinb_cogcoor.pth\"\n",
    "    # ckpt_config_filename = \"GroundingDINO_SwinB.cfg.py\"\n",
    "\n",
    "    # groundingdino_model = load_model_hf(ckpt_repo_id, ckpt_filenmae, ckpt_config_filename)\n",
    "\n",
    "    # sam_checkpoint = 'pretrained_sam/sam_vit_h_4b8939.pth'\n",
    "    # sam = build_sam(checkpoint=sam_checkpoint)\n",
    "    # device = \"cpu\"\n",
    "    # sam.to(device=device)\n",
    "    # sam_predictor = SamPredictor(sam)\n",
    "\n",
    "    import io\n",
    "\n",
    "    # TEXT_PROMPT = f\"The largest {class_name}\"\n",
    "    # TEXT_PROMPT = f\"{opt.text} {class_name}\"\n",
    "    TEXT_PROMPT = text_prompt\n",
    "    BOX_TRESHOLD = 0.3\n",
    "    TEXT_TRESHOLD = 0.25\n",
    "\n",
    "    image_source, image = load_image(local_image_path)\n",
    "\n",
    "    boxes, logits, phrases = predict(\n",
    "        model=groundingdino_model, \n",
    "        image=image, \n",
    "        caption=TEXT_PROMPT, \n",
    "        box_threshold=BOX_TRESHOLD, \n",
    "        text_threshold=TEXT_TRESHOLD\n",
    "    )\n",
    "\n",
    "    annotated_frame = annotate(image_source=image_source, boxes=boxes, logits=logits, phrases=phrases)\n",
    "    annotated_frame = annotated_frame[...,::-1] # BGR to RGB\n",
    "\n",
    "    # Image.fromarray(image_source)\n",
    "    # Image.fromarray(annotated_frame)\n",
    "\n",
    "    # set image\n",
    "    sam_predictor.set_image(image_source)\n",
    "\n",
    "    # box: normalized box xywh -> unnormalized xyxy\n",
    "    H, W, _ = image_source.shape\n",
    "    boxes_xyxy = box_ops.box_cxcywh_to_xyxy(boxes) * torch.Tensor([W, H, W, H])\n",
    "\n",
    "    transformed_boxes = sam_predictor.transform.apply_boxes_torch(boxes_xyxy, image_source.shape[:2]).to(device)\n",
    "\n",
    "    masks, _, _ = sam_predictor.predict_torch(\n",
    "                point_coords = None,\n",
    "                point_labels = None,\n",
    "                boxes = transformed_boxes,\n",
    "                multimask_output = False,\n",
    "            )\n",
    "\n",
    "    def show_mask(mask, image, random_color=True):\n",
    "        if random_color:\n",
    "            color = np.concatenate([np.random.random(3), np.array([0.8])], axis=0)\n",
    "        else:\n",
    "            color = np.array([30/255, 144/255, 255/255, 0.6])\n",
    "        h, w = mask.shape[-2:]\n",
    "        mask_image = mask.reshape(h, w, 1) * color.reshape(1, 1, -1)\n",
    "        \n",
    "        annotated_frame_pil = Image.fromarray(image).convert(\"RGBA\")\n",
    "        mask_image_pil = Image.fromarray((mask_image.cpu().numpy() * 255).astype(np.uint8)).convert(\"RGBA\")\n",
    "\n",
    "        return np.array(Image.alpha_composite(annotated_frame_pil, mask_image_pil))\n",
    "\n",
    "    def get_mask(mask):\n",
    "        h, w = mask.shape[-2:]\n",
    "        mask = mask.type(torch.float64)\n",
    "        mask = (mask.cpu().numpy() * 255).astype(np.uint8)\n",
    "        \n",
    "        # mask_image_pil = Image.fromarray((mask.cpu().numpy() * 255).astype(np.uint8))\n",
    "        # mask_image_pil = mask_image_pil.convert(\"RGBA\")\n",
    "\n",
    "        # foreground: white (255), background: black (0)\n",
    "        # return mask_image_pil\n",
    "        # return np.array(mask_image_pil)\n",
    "        return mask\n",
    " \n",
    "    return masks[0][0].cpu().numpy()\n",
    "    return get_mask(masks[0][0])\n",
    "    \n",
    "    annotated_frame_with_mask = show_mask(masks[0][0], annotated_frame)\n",
    "    \n",
    "    # RGBA -> RGB\n",
    "    pil_img = Image.fromarray(annotated_frame_with_mask[..., :3])\n",
    "    pil_img.save(\"_dino4.jpg\")\n",
    "\n",
    "    image_mask = masks[0][0].cpu().numpy()\n",
    "\n",
    "    image_source_pil = Image.fromarray(image_source)\n",
    "    annotated_frame_pil = Image.fromarray(annotated_frame)\n",
    "    image_mask_pil = Image.fromarray(image_mask)\n",
    "    annotated_frame_with_mask_pil = Image.fromarray(annotated_frame_with_mask)\n",
    "\n",
    "    # image_mask_pil"
   ]
  },
  {
   "cell_type": "code",
   "execution_count": 5,
   "metadata": {},
   "outputs": [],
   "source": [
    "from utils import EasyDict"
   ]
  },
  {
   "cell_type": "code",
   "execution_count": 12,
   "metadata": {},
   "outputs": [
    {
     "name": "stdout",
     "output_type": "stream",
     "text": [
      "final text_encoder_type: bert-base-uncased\n",
      "Model loaded from /home/ugkim/.cache/huggingface/hub/models--ShilongLiu--GroundingDINO/snapshots/a94c9b567a2a374598f05c584e96798a170c56fb/groundingdino_swinb_cogcoor.pth \n",
      " => _IncompatibleKeys(missing_keys=[], unexpected_keys=['label_enc.weight', 'bert.embeddings.position_ids'])\n"
     ]
    },
    {
     "ename": "RuntimeError",
     "evalue": "Error(s) in loading state_dict for Sam:\n\tUnexpected key(s) in state_dict: \"mask_decoder.hf_token.weight\", \"mask_decoder.hf_mlp.layers.0.weight\", \"mask_decoder.hf_mlp.layers.0.bias\", \"mask_decoder.hf_mlp.layers.1.weight\", \"mask_decoder.hf_mlp.layers.1.bias\", \"mask_decoder.hf_mlp.layers.2.weight\", \"mask_decoder.hf_mlp.layers.2.bias\", \"mask_decoder.compress_vit_feat.0.weight\", \"mask_decoder.compress_vit_feat.0.bias\", \"mask_decoder.compress_vit_feat.1.weight\", \"mask_decoder.compress_vit_feat.1.bias\", \"mask_decoder.compress_vit_feat.3.weight\", \"mask_decoder.compress_vit_feat.3.bias\", \"mask_decoder.embedding_encoder.0.weight\", \"mask_decoder.embedding_encoder.0.bias\", \"mask_decoder.embedding_encoder.1.weight\", \"mask_decoder.embedding_encoder.1.bias\", \"mask_decoder.embedding_encoder.3.weight\", \"mask_decoder.embedding_encoder.3.bias\", \"mask_decoder.embedding_maskfeature.0.weight\", \"mask_decoder.embedding_maskfeature.0.bias\", \"mask_decoder.embedding_maskfeature.1.weight\", \"mask_decoder.embedding_maskfeature.1.bias\", \"mask_decoder.embedding_maskfeature.3.weight\", \"mask_decoder.embedding_maskfeature.3.bias\". ",
     "output_type": "error",
     "traceback": [
      "\u001b[0;31m---------------------------------------------------------------------------\u001b[0m",
      "\u001b[0;31mRuntimeError\u001b[0m                              Traceback (most recent call last)",
      "Cell \u001b[0;32mIn[12], line 28\u001b[0m\n\u001b[1;32m     26\u001b[0m sam_hq_chekpoint \u001b[39m=\u001b[39m \u001b[39m'\u001b[39m\u001b[39m../pretrained_sam/sam_hq_vit_h.pth\u001b[39m\u001b[39m'\u001b[39m\n\u001b[1;32m     27\u001b[0m device \u001b[39m=\u001b[39m \u001b[39m\"\u001b[39m\u001b[39mcpu\u001b[39m\u001b[39m\"\u001b[39m\n\u001b[0;32m---> 28\u001b[0m sam_predictor \u001b[39m=\u001b[39m SamPredictorHQ(sam_model_registry_baseline[\u001b[39m\"\u001b[39;49m\u001b[39mvit_h\u001b[39;49m\u001b[39m\"\u001b[39;49m](checkpoint\u001b[39m=\u001b[39;49msam_hq_chekpoint)\u001b[39m.\u001b[39mto(device))\n\u001b[1;32m     30\u001b[0m \u001b[39m# BLIP\u001b[39;00m\n\u001b[1;32m     31\u001b[0m blip2 \u001b[39m=\u001b[39m BLIP2()\n",
      "File \u001b[0;32m~/miniconda3/envs/fusion/lib/python3.9/site-packages/segment_anything_hq/build_sam_baseline.py:15\u001b[0m, in \u001b[0;36mbuild_sam_vit_h\u001b[0;34m(checkpoint)\u001b[0m\n\u001b[1;32m     14\u001b[0m \u001b[39mdef\u001b[39;00m \u001b[39mbuild_sam_vit_h\u001b[39m(checkpoint\u001b[39m=\u001b[39m\u001b[39mNone\u001b[39;00m):\n\u001b[0;32m---> 15\u001b[0m     \u001b[39mreturn\u001b[39;00m _build_sam(\n\u001b[1;32m     16\u001b[0m         encoder_embed_dim\u001b[39m=\u001b[39;49m\u001b[39m1280\u001b[39;49m,\n\u001b[1;32m     17\u001b[0m         encoder_depth\u001b[39m=\u001b[39;49m\u001b[39m32\u001b[39;49m,\n\u001b[1;32m     18\u001b[0m         encoder_num_heads\u001b[39m=\u001b[39;49m\u001b[39m16\u001b[39;49m,\n\u001b[1;32m     19\u001b[0m         encoder_global_attn_indexes\u001b[39m=\u001b[39;49m[\u001b[39m7\u001b[39;49m, \u001b[39m15\u001b[39;49m, \u001b[39m23\u001b[39;49m, \u001b[39m31\u001b[39;49m],\n\u001b[1;32m     20\u001b[0m         checkpoint\u001b[39m=\u001b[39;49mcheckpoint,\n\u001b[1;32m     21\u001b[0m     )\n",
      "File \u001b[0;32m~/miniconda3/envs/fusion/lib/python3.9/site-packages/segment_anything_hq/build_sam_baseline.py:155\u001b[0m, in \u001b[0;36m_build_sam\u001b[0;34m(encoder_embed_dim, encoder_depth, encoder_num_heads, encoder_global_attn_indexes, checkpoint)\u001b[0m\n\u001b[1;32m    153\u001b[0m     \u001b[39mwith\u001b[39;00m \u001b[39mopen\u001b[39m(checkpoint, \u001b[39m\"\u001b[39m\u001b[39mrb\u001b[39m\u001b[39m\"\u001b[39m) \u001b[39mas\u001b[39;00m f:\n\u001b[1;32m    154\u001b[0m         state_dict \u001b[39m=\u001b[39m torch\u001b[39m.\u001b[39mload(f)\n\u001b[0;32m--> 155\u001b[0m     sam\u001b[39m.\u001b[39;49mload_state_dict(state_dict)\n\u001b[1;32m    156\u001b[0m \u001b[39mreturn\u001b[39;00m sam\n",
      "File \u001b[0;32m~/miniconda3/envs/fusion/lib/python3.9/site-packages/torch/nn/modules/module.py:1604\u001b[0m, in \u001b[0;36mModule.load_state_dict\u001b[0;34m(self, state_dict, strict)\u001b[0m\n\u001b[1;32m   1599\u001b[0m         error_msgs\u001b[39m.\u001b[39minsert(\n\u001b[1;32m   1600\u001b[0m             \u001b[39m0\u001b[39m, \u001b[39m'\u001b[39m\u001b[39mMissing key(s) in state_dict: \u001b[39m\u001b[39m{}\u001b[39;00m\u001b[39m. \u001b[39m\u001b[39m'\u001b[39m\u001b[39m.\u001b[39mformat(\n\u001b[1;32m   1601\u001b[0m                 \u001b[39m'\u001b[39m\u001b[39m, \u001b[39m\u001b[39m'\u001b[39m\u001b[39m.\u001b[39mjoin(\u001b[39m'\u001b[39m\u001b[39m\"\u001b[39m\u001b[39m{}\u001b[39;00m\u001b[39m\"\u001b[39m\u001b[39m'\u001b[39m\u001b[39m.\u001b[39mformat(k) \u001b[39mfor\u001b[39;00m k \u001b[39min\u001b[39;00m missing_keys)))\n\u001b[1;32m   1603\u001b[0m \u001b[39mif\u001b[39;00m \u001b[39mlen\u001b[39m(error_msgs) \u001b[39m>\u001b[39m \u001b[39m0\u001b[39m:\n\u001b[0;32m-> 1604\u001b[0m     \u001b[39mraise\u001b[39;00m \u001b[39mRuntimeError\u001b[39;00m(\u001b[39m'\u001b[39m\u001b[39mError(s) in loading state_dict for \u001b[39m\u001b[39m{}\u001b[39;00m\u001b[39m:\u001b[39m\u001b[39m\\n\u001b[39;00m\u001b[39m\\t\u001b[39;00m\u001b[39m{}\u001b[39;00m\u001b[39m'\u001b[39m\u001b[39m.\u001b[39mformat(\n\u001b[1;32m   1605\u001b[0m                        \u001b[39mself\u001b[39m\u001b[39m.\u001b[39m\u001b[39m__class__\u001b[39m\u001b[39m.\u001b[39m\u001b[39m__name__\u001b[39m, \u001b[39m\"\u001b[39m\u001b[39m\\n\u001b[39;00m\u001b[39m\\t\u001b[39;00m\u001b[39m\"\u001b[39m\u001b[39m.\u001b[39mjoin(error_msgs)))\n\u001b[1;32m   1606\u001b[0m \u001b[39mreturn\u001b[39;00m _IncompatibleKeys(missing_keys, unexpected_keys)\n",
      "\u001b[0;31mRuntimeError\u001b[0m: Error(s) in loading state_dict for Sam:\n\tUnexpected key(s) in state_dict: \"mask_decoder.hf_token.weight\", \"mask_decoder.hf_mlp.layers.0.weight\", \"mask_decoder.hf_mlp.layers.0.bias\", \"mask_decoder.hf_mlp.layers.1.weight\", \"mask_decoder.hf_mlp.layers.1.bias\", \"mask_decoder.hf_mlp.layers.2.weight\", \"mask_decoder.hf_mlp.layers.2.bias\", \"mask_decoder.compress_vit_feat.0.weight\", \"mask_decoder.compress_vit_feat.0.bias\", \"mask_decoder.compress_vit_feat.1.weight\", \"mask_decoder.compress_vit_feat.1.bias\", \"mask_decoder.compress_vit_feat.3.weight\", \"mask_decoder.compress_vit_feat.3.bias\", \"mask_decoder.embedding_encoder.0.weight\", \"mask_decoder.embedding_encoder.0.bias\", \"mask_decoder.embedding_encoder.1.weight\", \"mask_decoder.embedding_encoder.1.bias\", \"mask_decoder.embedding_encoder.3.weight\", \"mask_decoder.embedding_encoder.3.bias\", \"mask_decoder.embedding_maskfeature.0.weight\", \"mask_decoder.embedding_maskfeature.0.bias\", \"mask_decoder.embedding_maskfeature.1.weight\", \"mask_decoder.embedding_maskfeature.1.bias\", \"mask_decoder.embedding_maskfeature.3.weight\", \"mask_decoder.embedding_maskfeature.3.bias\". "
     ]
    }
   ],
   "source": [
    "opt = EasyDict()\n",
    "opt.root = \"/node_data/ugkim/sitto/src/pix3d/desk/image/pix3d_desk_0318_img.jpg\"\n",
    "opt.single_image = True\n",
    "opt.single_dir = False\n",
    "opt.text = \"The largest\"\n",
    "opt.size = 256\n",
    "opt.border_ratio = 0.2\n",
    "opt.recenter = True\n",
    "opt.dont_recenter = False\n",
    "\n",
    "ckpt_repo_id = \"ShilongLiu/GroundingDINO\"\n",
    "ckpt_filenmae = \"groundingdino_swinb_cogcoor.pth\"\n",
    "ckpt_config_filename = \"GroundingDINO_SwinB.cfg.py\"\n",
    "\n",
    "# Grounding DINO\n",
    "groundingdino_model = load_model_hf(ckpt_repo_id, ckpt_filenmae, ckpt_config_filename)\n",
    "\n",
    "# SAM\n",
    "# sam_checkpoint = '../pretrained_sam/sam_vit_h_4b8939.pth'\n",
    "# sam = build_sam(checkpoint=sam_checkpoint)\n",
    "# device = \"cpu\"\n",
    "# sam.to(device=device)\n",
    "# sam_predictor = SamPredictor(sam)\n",
    "\n",
    "# SAM-HQ\n",
    "sam_hq_chekpoint = '../pretrained_sam/sam_hq_vit_h.pth'\n",
    "device = \"cpu\"\n",
    "sam_predictor = SamPredictorHQ(sam_model_registry_baseline[\"vit_h\"](checkpoint=sam_hq_chekpoint).to(device))\n",
    "\n",
    "# BLIP\n",
    "blip2 = BLIP2()\n"
   ]
  },
  {
   "cell_type": "code",
   "execution_count": null,
   "metadata": {},
   "outputs": [
    {
     "name": "stdout",
     "output_type": "stream",
     "text": [
      "[INFO] loading image...\n",
      "[INFO] background removal...\n"
     ]
    }
   ],
   "source": [
    "\n",
    "# segment_image(opt, class_name, groundingdino_model, sam_predictor)\n",
    "\n",
    "# opt.path = opt.root\n",
    "\n",
    "opt.path = \"/node_data/ugkim/sitto/src/pix3d/desk/image/pix3d_desk_0318_img.jpg\"\n",
    "# opt.path = \"/node_data/ugkim/sitto/src/pix3d_im3d/chair/image/pix3d_chair_0169_img.jpg\"\n",
    "\n",
    "class_name = os.path.dirname(opt.path).split(\"/\")[-2]\n",
    "\n",
    "out_dir = os.path.dirname(opt.path)\n",
    "out_rgba = os.path.join(out_dir, os.path.basename(opt.path).split('.')[0] + '_rgba.png')\n",
    "out_caption = os.path.join(out_dir, os.path.basename(opt.path).split('.')[0] + '_caption.txt')\n",
    "\n",
    "# load image\n",
    "print(f'[INFO] loading image...')\n",
    "image = cv2.imread(opt.path, cv2.IMREAD_UNCHANGED)\n",
    "if image.shape[-1] == 4:\n",
    "    image = cv2.cvtColor(image, cv2.COLOR_BGRA2RGB)\n",
    "else:\n",
    "    image = cv2.cvtColor(image, cv2.COLOR_BGR2RGB)\n",
    "\n",
    "# carve background\n",
    "print(f'[INFO] background removal...')\n",
    "\n",
    "# TODO: change text prompt\n",
    "# opt.path = \"/node_data/ugkim/sitto/src/pix3d/desk/image/pix3d_desk_0318_img.jpg\"\n",
    "# opt.path = \"/node_data/ugkim/sitto/src/pix3d_im3d/chair/image/pix3d_chair_0169_img.jpg\"\n",
    "\n",
    "opt.text = \"The largest\"\n",
    "# opt.text = \"The most front-facing middle\"\n"
   ]
  },
  {
   "cell_type": "code",
   "execution_count": null,
   "metadata": {},
   "outputs": [
    {
     "name": "stdout",
     "output_type": "stream",
     "text": [
      "[INFO] captioning...\n"
     ]
    },
    {
     "data": {
      "text/plain": [
       "'table basse de maison'"
      ]
     },
     "execution_count": 14,
     "metadata": {},
     "output_type": "execute_result"
    }
   ],
   "source": [
    "print(f'[INFO] captioning...')\n",
    "caption = blip2(image)\n",
    "caption"
   ]
  },
  {
   "cell_type": "code",
   "execution_count": null,
   "metadata": {},
   "outputs": [
    {
     "name": "stdout",
     "output_type": "stream",
     "text": [
      "[INFO] segmentation...\n"
     ]
    },
    {
     "data": {
      "image/png": "[encoded data removed]",
      "text/plain": [
       "<PIL.Image.Image image mode=RGBA size=150x112>"
      ]
     },
     "execution_count": 19,
     "metadata": {},
     "output_type": "execute_result"
    }
   ],
   "source": [
    "print(\"[INFO] segmentation...\")\n",
    "text_prompt = f\"{opt.text} {class_name}\"\n",
    "mask = grounded_sam(text_prompt, opt.path, groundingdino_model, sam_predictor) # [H, W]\n",
    "masked_image = (image * mask[..., None] + (255 - mask * 255)[..., None]).astype(np.uint8)\n",
    "alpha = ((mask * 255)[..., None]).astype(np.uint8)\n",
    "carved_image = np.concatenate((masked_image, alpha), axis=-1)\n",
    "pil_image = Image.fromarray(carved_image)\n",
    "H, W = pil_image.size\n",
    "pil_image.resize((H // 2, W // 2))"
   ]
  },
  {
   "cell_type": "code",
   "execution_count": null,
   "metadata": {},
   "outputs": [
    {
     "name": "stdout",
     "output_type": "stream",
     "text": [
      "[INFO] segmentation...\n"
     ]
    },
    {
     "data": {
      "image/png": "[encoded data removed]",
      "text/plain": [
       "<PIL.Image.Image image mode=RGBA size=150x112>"
      ]
     },
     "execution_count": 18,
     "metadata": {},
     "output_type": "execute_result"
    }
   ],
   "source": [
    "print(\"[INFO] segmentation...\")\n",
    "text_prompt = caption\n",
    "mask = grounded_sam(text_prompt, opt.path, groundingdino_model, sam_predictor) # [H, W]\n",
    "masked_image = (image * mask[..., None] + (255 - mask * 255)[..., None]).astype(np.uint8)\n",
    "alpha = ((mask * 255)[..., None]).astype(np.uint8)\n",
    "carved_image = np.concatenate((masked_image, alpha), axis=-1)\n",
    "pil_image = Image.fromarray(carved_image)\n",
    "H, W = pil_image.size\n",
    "pil_image.resize((H // 2, W // 2))"
   ]
  },
  {
   "cell_type": "code",
   "execution_count": null,
   "metadata": {},
   "outputs": [],
   "source": []
  }
 ],
 "metadata": {
  "kernelspec": {
   "display_name": "fusion",
   "language": "python",
   "name": "python3"
  },
  "language_info": {
   "codemirror_mode": {
    "name": "ipython",
    "version": 3
   },
   "file_extension": ".py",
   "mimetype": "text/x-python",
   "name": "python",
   "nbconvert_exporter": "python",
   "pygments_lexer": "ipython3",
   "version": "3.9.18"
  },
  "orig_nbformat": 4
 },
 "nbformat": 4,
 "nbformat_minor": 2
}
